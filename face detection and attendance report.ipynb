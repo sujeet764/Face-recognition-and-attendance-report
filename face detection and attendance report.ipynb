{
 "cells": [
  {
   "cell_type": "markdown",
   "metadata": {},
   "source": [
    "### Testing"
   ]
  },
  {
   "cell_type": "code",
   "execution_count": 1,
   "metadata": {},
   "outputs": [],
   "source": [
    "import cv2\n",
    "import face_recognition\n",
    "import cvzone"
   ]
  },
  {
   "cell_type": "code",
   "execution_count": 70,
   "metadata": {},
   "outputs": [
    {
     "name": "stdout",
     "output_type": "stream",
     "text": [
      "[False] [0.63055531]\n"
     ]
    }
   ],
   "source": [
    "img  = face_recognition.load_image_file(\"Train Image/Sujeet.jpg\")\n",
    "img = cv2.cvtColor(img, cv2.COLOR_BGR2RGB)\n",
    "\n",
    "img_test = face_recognition.load_image_file(\"Train Image/Amit.jpg\")\n",
    "img_test = cv2.cvtColor(img_test, cv2.COLOR_BGR2RGB)\n",
    "\n",
    "\n",
    "\n",
    "face_loc = face_recognition.face_locations(img)[0]\n",
    "encod_face = face_recognition.face_encodings(img)[0]\n",
    "cv2.rectangle(img, (face_loc[3],face_loc[0]),(face_loc[2],face_loc[1]),(255,0,255),2)\n",
    "\n",
    "faceLocTest = face_recognition.face_locations(img_test)[0]\n",
    "encodeTest  = face_recognition.face_encodings(img_test)[0]\n",
    "cv2.rectangle(img_test, (faceLocTest[3],faceLocTest[0]),(faceLocTest[2],faceLocTest[1]),(255,0,255),2)\n",
    "\n",
    "results = face_recognition.compare_faces([encod_face],encodeTest)\n",
    "faceDis = face_recognition.face_distance([encod_face],encodeTest)\n",
    "print(results, faceDis)\n",
    "\n",
    "cv2.putText(img_test, f'{results} {round(faceDis[0])}',(50,50),cv2.FONT_HERSHEY_COMPLEX,1,(0,0,255),2)\n",
    "\n",
    "cv2.imshow(\"Image\",img)\n",
    "cv2.imshow(\"test image\", img_test)\n",
    "k = cv2.waitKey(0)\n"
   ]
  },
  {
   "cell_type": "markdown",
   "metadata": {},
   "source": [
    "### Attendance Project"
   ]
  },
  {
   "cell_type": "code",
   "execution_count": 4,
   "metadata": {},
   "outputs": [
    {
     "name": "stdout",
     "output_type": "stream",
     "text": [
      "Encoding Complete\n"
     ]
    }
   ],
   "source": [
    "import cv2\n",
    "import numpy as np\n",
    "import face_recognition\n",
    "import os\n",
    "from datetime import datetime\n",
    "from PIL import ImageGrab\n",
    "\n",
    "path = 'Train Image'\n",
    "images = []\n",
    "classNames = []\n",
    "myList = os.listdir(path)\n",
    "#print(myList)\n",
    "\n",
    "for cl in myList:\n",
    "    curImg = cv2.imread(f'{path}/{cl}')\n",
    "    images.append(curImg)\n",
    "    classNames.append(os.path.splitext(cl)[0])\n",
    "\n",
    "#print(classNames)\n",
    "\n",
    "def findEncodings(images):\n",
    "    encodeList = []\n",
    "    for img in images:\n",
    "        img = cv2.cvtColor(img, cv2.COLOR_BGR2RGB)\n",
    "        encode = face_recognition.face_encodings(img)[0]\n",
    "        encodeList.append(encode)\n",
    "    return encodeList\n",
    "\n",
    "def markAttendance(name):\n",
    "    with open(\"Attendances.csv\",'r+') as f:\n",
    "        myDataList = f.readlines()\n",
    "        nameList = []\n",
    "        \n",
    "        for line in myDataList:\n",
    "            entry = line.split(\",\")\n",
    "            nameList.append(entry[0])\n",
    "            \n",
    "        if name not in nameList:\n",
    "            now = datetime.now()\n",
    "            dtString = now.strftime('%H:%M:%S')\n",
    "            f.writelines(f'\\n{name},{dtString}')\n",
    "\n",
    "\n",
    "encodeListKnown = findEncodings(images)\n",
    "print(\"Encoding Complete\")\n",
    "\n"
   ]
  },
  {
   "cell_type": "code",
   "execution_count": 7,
   "metadata": {},
   "outputs": [],
   "source": [
    "cap = cv2.VideoCapture(1)\n",
    "name = \"Unknown\"\n",
    "while True:\n",
    "    success, img = cap.read()\n",
    "    imgS = cv2.resize(img, (0,0), None, 0.25,0.25)\n",
    "    imgS = cv2.cvtColor(imgS, cv2.COLOR_BGR2RGB)\n",
    "    \n",
    "    faceCurFrame = face_recognition.face_locations(imgS)\n",
    "    encodeCurFrame = face_recognition.face_encodings(imgS, faceCurFrame)\n",
    "    \n",
    "    for encodeFace, (top, right, bottom, left) in zip(encodeCurFrame, faceCurFrame):\n",
    "        matches = face_recognition.compare_faces(encodeListKnown, encodeFace)\n",
    "        faceDis = face_recognition.face_distance(encodeListKnown, encodeFace)\n",
    "        \n",
    "        matchIndex = np.argmin(faceDis)\n",
    "        \n",
    "        \n",
    "        \n",
    "        if matches[matchIndex]:\n",
    "            name = classNames[matchIndex].upper()\n",
    "    \n",
    "   \n",
    "        # Scale back up face locations since the frame we detected in was scaled to 1/4 size\n",
    "        top *= 4\n",
    "        right *= 4\n",
    "        bottom *= 4\n",
    "        left *= 4\n",
    "\n",
    "        # Draw a box around the face\n",
    "        cv2.rectangle(img, (left+10, top+10), (right+10, bottom+10), (0, 0, 255), 2)\n",
    "\n",
    "        # Draw a label with a name below the face\n",
    "        cv2.rectangle(img, (left+10, bottom -35), (right+10, bottom+10), (0, 0, 255), cv2.FILLED)\n",
    "        font = cv2.FONT_HERSHEY_DUPLEX\n",
    "        cv2.putText(img, name, (left + 8, bottom - 6), font, 1.0, (255, 255, 255), 1)\n",
    "        markAttendance(name)\n",
    "\n",
    "    # Display the resulting image\n",
    "    cv2.imshow('Video', img)\n",
    "\n",
    "    # Hit 'q' on the keyboard to quit!\n",
    "    if cv2.waitKey(1) & 0xFF == ord('q'):\n",
    "        break\n",
    "\n",
    "# Release handle to the webcam\n",
    "cap.release()\n",
    "cv2.destroyAllWindows()\n"
   ]
  }
 ],
 "metadata": {
  "kernelspec": {
   "display_name": "Python 3",
   "language": "python",
   "name": "python3"
  },
  "language_info": {
   "codemirror_mode": {
    "name": "ipython",
    "version": 3
   },
   "file_extension": ".py",
   "mimetype": "text/x-python",
   "name": "python",
   "nbconvert_exporter": "python",
   "pygments_lexer": "ipython3",
   "version": "3.7.4"
  }
 },
 "nbformat": 4,
 "nbformat_minor": 4
}
